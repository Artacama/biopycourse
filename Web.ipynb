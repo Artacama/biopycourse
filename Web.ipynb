{
 "metadata": {
  "name": "",
  "signature": "sha256:3b3595af2b183e0b4428c837bc1d7600fc4303ad14125c449dd48d9051e3b116"
 },
 "nbformat": 3,
 "nbformat_minor": 0,
 "worksheets": [
  {
   "cells": [
    {
     "cell_type": "heading",
     "level": 1,
     "metadata": {},
     "source": [
      "Python and the web"
     ]
    },
    {
     "cell_type": "markdown",
     "metadata": {},
     "source": [
      "**Django**\n",
      "\n",
      "It would be tragic if an introduction to Python would skip one of the cases where Python really shines, wich is server side scripting. If Javascript rules as the scripting language of the web client, on the web server Python is ubiquitous due to it's fast prototyping. Only very recently Javascript started to also be popular with frameworks like node.js. [Django](https://docs.djangoproject.com/en/1.7/) is a web framework that uses a model-view-controller architecture wich simplifies reusability. One can write entire websites only from python code and html templates, although in general Javascript is also used for complex websites along with manual database configurations.\n",
      "\n",
      "We will next explore how a simple web poll can be configured and how the sqlite database is auto-updated. "
     ]
    },
    {
     "cell_type": "code",
     "collapsed": false,
     "input": [
      "import django\n",
      "print(django.get_version())\n",
      "print(django.__path__)"
     ],
     "language": "python",
     "metadata": {},
     "outputs": [
      {
       "output_type": "stream",
       "stream": "stdout",
       "text": [
        "1.8\n",
        "['/usr/local/lib/python2.7/dist-packages/django']\n"
       ]
      }
     ],
     "prompt_number": 1
    },
    {
     "cell_type": "markdown",
     "metadata": {},
     "source": [
      "To start a new project there is a sequence of commands:\n",
      "```\n",
      "$ django-admin.py startproject djangoform\n",
      "$ python manage.py migrate\n",
      "$ python manage.py runserver\n",
      "$ python manage.py startapp polls\n",
      "```\n",
      "then edit polls/models.py.\n",
      "\n",
      "Now add the polls app on the settings file\n",
      "\n",
      "```\n",
      "djangoform/settings.py\n",
      "INSTALLED_APPS = (\n",
      "    'django.contrib.admin',\n",
      "    'django.contrib.auth',\n",
      "    'django.contrib.contenttypes',\n",
      "    'django.contrib.sessions',\n",
      "    'django.contrib.messages',\n",
      "    'django.contrib.staticfiles',\n",
      "    'polls',\n",
      ")\n",
      "\n",
      "$ python manage.py makemigrations polls\n",
      "$ python manage.py sqlmigrate polls 0001\n",
      "this generates an sql schema:\n",
      "\n",
      "BEGIN;\n",
      "CREATE TABLE \"polls_choice\" (\"id\" integer NOT NULL PRIMARY KEY AUTOINCREMENT, \"choice_text\" varchar(200) NOT NULL, \"votes\" integer NOT NULL);\n",
      "CREATE TABLE \"polls_question\" (\"id\" integer NOT NULL PRIMARY KEY AUTOINCREMENT, \"question_text\" varchar(200) NOT NULL, \"pub_date\" datetime NOT NULL);\n",
      "CREATE TABLE \"polls_choice__new\" (\"id\" integer NOT NULL PRIMARY KEY AUTOINCREMENT, \"choice_text\" varchar(200) NOT NULL, \"votes\" integer NOT NULL, \"question_id\" integer NOT NULL REFERENCES \"polls_question\" (\"id\"));\n",
      "INSERT INTO \"polls_choice__new\" (\"choice_text\", \"votes\", \"id\", \"question_id\") SELECT \"choice_text\", \"votes\", \"id\", NULL FROM \"polls_choice\";\n",
      "DROP TABLE \"polls_choice\";\n",
      "ALTER TABLE \"polls_choice__new\" RENAME TO \"polls_choice\";\n",
      "CREATE INDEX \"polls_choice_7aa0f6ee\" ON \"polls_choice\" (\"question_id\");\n",
      "\n",
      "COMMIT;\n",
      "\n",
      "$ python manage.py migrate\n",
      "$ python manage.py createsuperuser\n",
      "\n",
      "open the siteaddress/admin/\n",
      "```\n",
      "\n",
      "**SQL database interaction**\n",
      "\n",
      "The polls app was configured to use a SQLite database. This database has a Python module that is part of the Python standard library. To test how the database is updated we will connect to the sqlite database externally. Normally for such operations one would use a dedicated shell, or a database bridge with advanced user interface. Programatic access alows for many automated operations. Pandas for example has a direct SQL bridge.\n",
      "\n",
      "While we only investigate SQLite, keep in mind that all the major databases can be accessed through Python."
     ]
    },
    {
     "cell_type": "code",
     "collapsed": false,
     "input": [
      "import sqlite3\n",
      "\n",
      "conn = sqlite3.connect('django/djangoform/db.sqlite3')\n",
      "#\"select name from sqlite_master where type = 'table';\"\n",
      "with conn:      \n",
      "    cur = conn.cursor()    \n",
      "    cur.execute(\"select name from sqlite_master where type = 'table'\")\n",
      "    rows = cur.fetchall()\n",
      "    print rows\n"
     ],
     "language": "python",
     "metadata": {},
     "outputs": [
      {
       "output_type": "stream",
       "stream": "stdout",
       "text": [
        "[(u'django_migrations',), (u'sqlite_sequence',), (u'auth_group',), (u'auth_group_permissions',), (u'auth_user_groups',), (u'auth_user_user_permissions',), (u'django_admin_log',), (u'django_content_type',), (u'auth_permission',), (u'auth_user',), (u'django_session',), (u'polls_question',), (u'polls_choice',)]\n"
       ]
      }
     ],
     "prompt_number": 5
    },
    {
     "cell_type": "markdown",
     "metadata": {},
     "source": [
      "All the tables above were generated automatically and are updated automatically as part of the Django model. We now want to read the 'polls_question' and 'polls_choice' tables."
     ]
    },
    {
     "cell_type": "code",
     "collapsed": false,
     "input": [
      "with conn:      \n",
      "    cur = conn.cursor()    \n",
      "    cur.execute(\"select * from polls_question\")\n",
      "    rows = cur.fetchall()\n",
      "    print rows\n",
      "    cur.execute(\"select sql from sqlite_master where tbl_name = 'polls_question' and type = 'table'\")\n",
      "    rows = cur.fetchall()\n",
      "    print rows\n",
      "    cur.execute(\"select * from polls_choice\")\n",
      "    rows = cur.fetchall()\n",
      "    print rows\n",
      "    cur.execute(\"select sql from sqlite_master where tbl_name = 'polls_choice' and type = 'table'\")\n",
      "    rows = cur.fetchall()\n",
      "    print rows\n",
      "    cur.execute(\"select p.question_id, p.votes, q.question_text from polls_choice as p inner join polls_question as q on p.question_id == q.id\")\n",
      "    rows = cur.fetchall()\n",
      "    print rows"
     ],
     "language": "python",
     "metadata": {},
     "outputs": [
      {
       "output_type": "stream",
       "stream": "stdout",
       "text": [
        "[(1, u\"What's up?\", u'2015-04-24 20:34:44')]\n",
        "[(u'CREATE TABLE \"polls_question\" (\"id\" integer NOT NULL PRIMARY KEY AUTOINCREMENT, \"question_text\" varchar(200) NOT NULL, \"pub_date\" datetime NOT NULL)',)]\n",
        "[(1, u'Choice 1.', 3, 1), (2, u'Choice 2.', 6, 1), (3, u'Choice 3.', 2, 1)]\n",
        "[(u'CREATE TABLE \"polls_choice\" (\"id\" integer NOT NULL PRIMARY KEY AUTOINCREMENT, \"choice_text\" varchar(200) NOT NULL, \"votes\" integer NOT NULL, \"question_id\" integer NOT NULL REFERENCES \"polls_question\" (\"id\"))',)]\n",
        "[(1, 3, u\"What's up?\"), (1, 6, u\"What's up?\"), (1, 2, u\"What's up?\")]\n"
       ]
      }
     ],
     "prompt_number": 12
    },
    {
     "cell_type": "markdown",
     "metadata": {},
     "source": [
      "SQL is an interogation language that can get relatively complex and it falls out of the scope of this course. However in data science it is extremely useful to be able to operate databases because relational databases allow for very fast data access and operations."
     ]
    },
    {
     "cell_type": "markdown",
     "metadata": {},
     "source": [
      "**Remote API calls example**\n",
      "\n",
      "Getting information as fast as possible into our Python data structures is vital. Only as a last resource should one program his own downloaders and parsers. When this is not found in Python, it can be possible to call libraries from Perl or Python or access web records with specified API calls. BioPython wraps a few API calls such as Entrez resources. Entrez is a federated search engine over various NCBI and NIH resource databases. "
     ]
    },
    {
     "cell_type": "code",
     "collapsed": false,
     "input": [
      "from Bio import Entrez\n",
      "Entrez.email = \"your@mail.here\"     # Always tell NCBI who you are\n",
      "handle = Entrez.einfo()\n",
      "#result = handle.read()\n",
      "record = Entrez.read(handle)\n",
      "print record.keys()\n",
      "print record[\"DbList\"]"
     ],
     "language": "python",
     "metadata": {},
     "outputs": [
      {
       "output_type": "stream",
       "stream": "stdout",
       "text": [
        "[u'DbList']\n",
        "['pubmed', 'protein', 'nuccore', 'nucleotide', 'nucgss', 'nucest', 'structure', 'genome', 'assembly', 'bioproject', 'biosample', 'blastdbinfo', 'books', 'cdd', 'clinvar', 'clone', 'gap', 'gapplus', 'grasp', 'dbvar', 'epigenomics', 'gene', 'gds', 'geoprofiles', 'homologene', 'medgen', 'journals', 'mesh', 'ncbisearch', 'nlmcatalog', 'omim', 'orgtrack', 'pmc', 'popset', 'probe', 'proteinclusters', 'pcassay', 'biosystems', 'pccompound', 'pcsubstance', 'pubmedhealth', 'seqannot', 'snp', 'sra', 'taxonomy', 'biocollections', 'toolkit', 'toolkitall', 'toolkitbook', 'unigene', 'gencoll', 'gtr']\n"
       ]
      },
      {
       "output_type": "stream",
       "stream": "stderr",
       "text": [
        "/usr/lib/python2.7/dist-packages/Bio/Entrez/Parser.py:525: UserWarning: Unable to load DTD file einfo.dtd.\n",
        "\n",
        "Bio.Entrez uses NCBI's DTD files to parse XML files returned by NCBI Entrez.\n",
        "Though most of NCBI's DTD files are included in the Biopython distribution,\n",
        "sometimes you may find that a particular DTD file is missing. While we can\n",
        "access the DTD file through the internet, the parser is much faster if the\n",
        "required DTD files are available locally.\n",
        "\n",
        "For this purpose, please download einfo.dtd from\n",
        "\n",
        "http://eutils.ncbi.nlm.nih.gov/eutils/dtd/20130322/einfo.dtd\n",
        "\n",
        "and save it either in directory\n",
        "\n",
        "/usr/lib/python2.7/dist-packages/Bio/Entrez/DTDs\n",
        "\n",
        "or in directory\n",
        "\n",
        "/home/sergiun/.biopython/Bio/Entrez/DTDs\n",
        "\n",
        "in order for Bio.Entrez to find it.\n",
        "\n",
        "Alternatively, you can save einfo.dtd in the directory\n",
        "Bio/Entrez/DTDs in the Biopython distribution, and reinstall Biopython.\n",
        "\n",
        "Please also inform the Biopython developers about this missing DTD, by\n",
        "reporting a bug on https://github.com/biopython/biopython/issues or sign\n",
        "up to our mailing list and emailing us, so that we can include it with the\n",
        "next release of Biopython.\n",
        "\n",
        "Proceeding to access the DTD file through the internet...\n",
        "\n",
        "  warnings.warn(message)\n"
       ]
      }
     ],
     "prompt_number": 2
    },
    {
     "cell_type": "markdown",
     "metadata": {},
     "source": [
      "**[BioPython](http://biopython.org/wiki/Main_Page)**\n",
      "\n",
      "So let us for example find the exact lineage for this amazing breed of bacteria that changed both plants and atmosphere in the earlier days of our planet... As biologists that try to learn Python, I hope you will love BioPython at least as much as I do. A number of programmers created Bio::Perl which is to date containing a few more modules than BioPython, however I got the feeling the Python version is more updated. It is unfortunate that we don't have time to explore it in a great detail. \n",
      "We will use it again over the course. \n",
      "\n",
      "Aside from BioPython, web API can be ofered by virtually any website and with a little effort one can either download an Python access package or program his own. Functional annotation for example, is weakly covered in Python, but [DAVID](http://david.abcc.ncifcrf.gov/content.jsp?file=WS.html) is another API independent from BioPython."
     ]
    },
    {
     "cell_type": "code",
     "collapsed": false,
     "input": [
      "from Bio import Entrez\n",
      "Entrez.email = \"your@mail.here\"     # Always tell NCBI who you are\n",
      "handle = Entrez.esearch(db=\"Taxonomy\", term=\"Synechocystis\")\n",
      "record = Entrez.read(handle)\n",
      "print record[\"IdList\"]\n",
      "#assuming only one record is returned\n",
      "handle = Entrez.efetch(db=\"Taxonomy\", id=record[\"IdList\"][0], retmode=\"xml\")\n",
      "records = Entrez.read(handle)\n",
      "print records[0].keys()\n",
      "print records[0][\"Lineage\"]"
     ],
     "language": "python",
     "metadata": {},
     "outputs": [
      {
       "output_type": "stream",
       "stream": "stdout",
       "text": [
        "['1142']\n",
        "<addinfourl at 140084631942208 whose fp = <socket._fileobject object at 0x7f67feb86050>>"
       ]
      },
      {
       "output_type": "stream",
       "stream": "stdout",
       "text": [
        "\n",
        "[u'Lineage', u'Division', u'ParentTaxId', u'PubDate', u'LineageEx', u'CreateDate', u'TaxId', u'Rank', u'OtherNames', u'GeneticCode', u'ScientificName', u'MitoGeneticCode', u'UpdateDate']\n",
        "cellular organisms; Bacteria; Cyanobacteria; Oscillatoriophycideae; Chroococcales\n"
       ]
      },
      {
       "output_type": "stream",
       "stream": "stderr",
       "text": [
        "/usr/lib/python2.7/dist-packages/Bio/Entrez/Parser.py:525: UserWarning: Unable to load DTD file esearch.dtd.\n",
        "\n",
        "Bio.Entrez uses NCBI's DTD files to parse XML files returned by NCBI Entrez.\n",
        "Though most of NCBI's DTD files are included in the Biopython distribution,\n",
        "sometimes you may find that a particular DTD file is missing. While we can\n",
        "access the DTD file through the internet, the parser is much faster if the\n",
        "required DTD files are available locally.\n",
        "\n",
        "For this purpose, please download esearch.dtd from\n",
        "\n",
        "http://eutils.ncbi.nlm.nih.gov/eutils/dtd/20060628/esearch.dtd\n",
        "\n",
        "and save it either in directory\n",
        "\n",
        "/usr/lib/python2.7/dist-packages/Bio/Entrez/DTDs\n",
        "\n",
        "or in directory\n",
        "\n",
        "/home/sergiun/.biopython/Bio/Entrez/DTDs\n",
        "\n",
        "in order for Bio.Entrez to find it.\n",
        "\n",
        "Alternatively, you can save esearch.dtd in the directory\n",
        "Bio/Entrez/DTDs in the Biopython distribution, and reinstall Biopython.\n",
        "\n",
        "Please also inform the Biopython developers about this missing DTD, by\n",
        "reporting a bug on https://github.com/biopython/biopython/issues or sign\n",
        "up to our mailing list and emailing us, so that we can include it with the\n",
        "next release of Biopython.\n",
        "\n",
        "Proceeding to access the DTD file through the internet...\n",
        "\n",
        "  warnings.warn(message)\n"
       ]
      }
     ],
     "prompt_number": 3
    },
    {
     "cell_type": "code",
     "collapsed": false,
     "input": [],
     "language": "python",
     "metadata": {},
     "outputs": []
    }
   ],
   "metadata": {}
  }
 ]
}