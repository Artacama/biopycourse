{
 "metadata": {
  "name": "",
  "signature": "sha256:f0ef74b6826dc83e06a637ddb48af0aa9d90a2aa5f317369648b1b142aaac4d9"
 },
 "nbformat": 3,
 "nbformat_minor": 0,
 "worksheets": [
  {
   "cells": [
    {
     "cell_type": "heading",
     "level": 1,
     "metadata": {},
     "source": [
      "Task: Metabolic analysis"
     ]
    },
    {
     "cell_type": "markdown",
     "metadata": {},
     "source": [
      "For this task you have to install a Python package for constraint based modeling of metabolism, called [cobrapy](https://github.com/opencobra/cobrapy). Load the EColi reconstructed model. Use [this documentation link](https://cobrapy.readthedocs.org/en/latest/getting_started.html) to get the metabolic reactions and the genes associated to them.\n",
      "\n",
      "Read the reactions into a network having the metabolites as nodes, and find out the most central metabolites both in terms of degree and in terms of betweeness centrality. Find all genes associated to reactions containing them. Perform GO enrichment on the set of genes looking in particular at cellular components. Are the central metabolites active in particular locations inside the cell?\n",
      "\n",
      "Extra points:\n",
      "\n",
      "Run a flux balance analysis and put the flux values into the network as well. How are the results changing?"
     ]
    },
    {
     "cell_type": "markdown",
     "metadata": {},
     "source": [
      "Metabolic pathway assembly and display\n",
      "\n",
      "http://biopython.org/DIST/docs/api/Bio.KEGG-module.html\n",
      "\n",
      "http://armchairbiology.blogspot.co.uk/2013/02/keggwatch-part-iii.html\n",
      "\n",
      "pysces\n",
      "http://cbmpy.sourceforge.net/\n",
      "\n",
      "old but useful\n",
      "http://frank-fbergmann.blogspot.se/2013/04/flux-balance-tools.html\n",
      "\n",
      "Flux balance analysis\n",
      "http://cobrapy.readthedocs.org/en/latest/getting_started.html\n",
      "\n"
     ]
    },
    {
     "cell_type": "code",
     "collapsed": false,
     "input": [],
     "language": "python",
     "metadata": {},
     "outputs": []
    }
   ],
   "metadata": {}
  }
 ]
}