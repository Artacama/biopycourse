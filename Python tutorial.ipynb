{
 "metadata": {
  "name": "",
  "signature": "sha256:62acef2de8a1dc8c0cef70f6e282588eccf89a029d475424a3e624005b539c48"
 },
 "nbformat": 3,
 "nbformat_minor": 0,
 "worksheets": [
  {
   "cells": [
    {
     "cell_type": "heading",
     "level": 1,
     "metadata": {},
     "source": [
      "Python tutorial"
     ]
    },
    {
     "cell_type": "markdown",
     "metadata": {},
     "source": [
      "These first steps are not very methodical. Programming language classes take time, start with basic concepts and gradually improve and expand on them. Universities offer more relaxed programming classes for students, but this is a different type of learning. Students have time for many things, for the rest of us working people there are two or perhaps three steps to learning a new language or a new library, and we learn by doing. The [tutorial](https://docs.python.org/2/tutorial/) is a simple exposure that takes you through some key aspects, next comes the programming guide (or any decent book) where concepts are explained in greater detail and at last there is the [reference library](https://docs.python.org/2/library/index.html), where every detail is supposed to be documented in concise format. Good programmers learn to read the tutorial, read some key aspects from the guide that make their library stand out and only check the reference guide when needed. Beginners in programming have a hard time knowing where to begin and are overwhelmed.\n",
      "\n",
      "No matter how good I would become at teaching Python in one or two hours, it fails to compare with reading the default tutorial, which would take much longer time than we have at our disposal. So please understand that there is a trade-off between time and quality. As we learn by doing I would like to invite you to check the documentation for Python and for the libraries we are using."
     ]
    },
    {
     "cell_type": "markdown",
     "metadata": {},
     "source": [
      "**Variables and comments**\n",
      "\n",
      "Variable vs type. 'Native' datatypes."
     ]
    },
    {
     "cell_type": "code",
     "collapsed": false,
     "input": [
      "# This is a line comment.\n",
      "\"\"\"\n",
      "A multi-line\n",
      "comment.\n",
      "\"\"\"\n",
      "a = None #Just declared an empty object\n",
      "print a\n",
      "a = 1\n",
      "print a\n",
      "b = 'abc'\n",
      "c = [a, 2, b, 1., 1.2e-5, True] #This is an array.\n",
      "print a, b, c\n"
     ],
     "language": "python",
     "metadata": {},
     "outputs": [
      {
       "output_type": "stream",
       "stream": "stdout",
       "text": [
        "None\n",
        "1\n",
        "1 abc [1, 2, 'abc', 1.0, 1.2e-05, True]\n"
       ]
      }
     ],
     "prompt_number": 16
    },
    {
     "cell_type": "code",
     "collapsed": false,
     "input": [
      "a = 1\n",
      "a\n",
      "b = 'abc'\n",
      "print b\n",
      "b"
     ],
     "language": "python",
     "metadata": {},
     "outputs": [
      {
       "output_type": "stream",
       "stream": "stdout",
       "text": [
        "abc\n"
       ]
      },
      {
       "metadata": {},
       "output_type": "pyout",
       "prompt_number": 11,
       "text": [
        "'abc'"
       ]
      }
     ],
     "prompt_number": 11
    },
    {
     "cell_type": "code",
     "collapsed": false,
     "input": [
      "b"
     ],
     "language": "python",
     "metadata": {},
     "outputs": [
      {
       "metadata": {},
       "output_type": "pyout",
       "prompt_number": 12,
       "text": [
        "'abc'"
       ]
      }
     ],
     "prompt_number": 12
    },
    {
     "cell_type": "markdown",
     "metadata": {},
     "source": [
      "Now let us switch the values of two variables."
     ]
    },
    {
     "cell_type": "code",
     "collapsed": false,
     "input": [
      "print a, b, c\n",
      "t = c\n",
      "c = b\n",
      "b = t\n",
      "print a, b, c"
     ],
     "language": "python",
     "metadata": {},
     "outputs": [
      {
       "output_type": "stream",
       "stream": "stdout",
       "text": [
        "1 abc [1, 2, 'abc', 1.0, 1.2e-05, True]\n",
        "1 [1, 2, 'abc', 1.0, 1.2e-05, True] abc\n"
       ]
      }
     ],
     "prompt_number": 17
    },
    {
     "cell_type": "markdown",
     "metadata": {},
     "source": [
      "**Math operations**\n",
      "\n",
      "Arithmetic"
     ]
    },
    {
     "cell_type": "code",
     "collapsed": false,
     "input": [
      "a = 2\n",
      "b = 1\n",
      "b = a*(5 + b) + 1/0.5\n",
      "print b\n",
      "c = 1/float(a)\n",
      "print c\n",
      "d = 1/a\n",
      "print d"
     ],
     "language": "python",
     "metadata": {},
     "outputs": [
      {
       "output_type": "stream",
       "stream": "stdout",
       "text": [
        "14.0\n",
        "0.5\n",
        "0.5\n"
       ]
      }
     ],
     "prompt_number": 22
    },
    {
     "cell_type": "markdown",
     "metadata": {},
     "source": [
      "Logical operations:"
     ]
    },
    {
     "cell_type": "code",
     "collapsed": false,
     "input": [
      "a = True\n",
      "b = 3\n",
      "print b == 5\n",
      "print a == False\n",
      "print b < 6 and not a\n",
      "print b < 6 or not a\n",
      "print b < 6 and (not a or not b == 3)"
     ],
     "language": "python",
     "metadata": {},
     "outputs": [
      {
       "output_type": "stream",
       "stream": "stdout",
       "text": [
        "False\n",
        "False\n",
        "False\n",
        "True\n",
        "False\n"
       ]
      }
     ],
     "prompt_number": 25
    },
    {
     "cell_type": "code",
     "collapsed": false,
     "input": [
      "print False or False"
     ],
     "language": "python",
     "metadata": {},
     "outputs": [
      {
       "output_type": "stream",
       "stream": "stdout",
       "text": [
        "False\n"
       ]
      }
     ],
     "prompt_number": 26
    },
    {
     "cell_type": "markdown",
     "metadata": {},
     "source": [
      "**Functions**\n",
      "\n",
      "Functions are a great way to separate code into readable chunks. The exact size and number of functions needed to solve a problem will affect readability.\n",
      "\n",
      "New concepts: indentation, namespaces, global and local scope, default parameters, passing arguments by value or by reference is meaningless in python, what are mutable and imutable types?"
     ]
    },
    {
     "cell_type": "code",
     "collapsed": false,
     "input": [
      "##indentation\n",
      "def operation(a, b):\n",
      "    c = 2*(5 + b) + 1/0.5\n",
      "    a = 1\n",
      "    return a, c\n",
      "\n",
      "a = None\n",
      "mu = 2\n",
      "operation(mu, 1)\n",
      "#a, op = operation(a, 1)\n",
      "print a, op"
     ],
     "language": "python",
     "metadata": {},
     "outputs": [
      {
       "output_type": "stream",
       "stream": "stdout",
       "text": [
        "None 14.0\n"
       ]
      }
     ],
     "prompt_number": 38
    },
    {
     "cell_type": "code",
     "collapsed": false,
     "input": [
      "a = 1\n",
      "print a\n",
      "a = \"blah\"\n",
      "print a"
     ],
     "language": "python",
     "metadata": {},
     "outputs": [
      {
       "output_type": "stream",
       "stream": "stdout",
       "text": [
        "1\n",
        "blah\n"
       ]
      }
     ],
     "prompt_number": 29
    },
    {
     "cell_type": "code",
     "collapsed": false,
     "input": [
      "#function scope\n",
      "def f(a):\n",
      "    print \"now running f()\"\n",
      "    a = 4\n",
      "    print a\n",
      "    return\n",
      "a = 1\n",
      "f(a)\n",
      "print a\n",
      "print f(a)"
     ],
     "language": "python",
     "metadata": {},
     "outputs": [
      {
       "output_type": "stream",
       "stream": "stdout",
       "text": [
        "now running f()\n",
        "4\n",
        "1\n",
        "now running f()\n",
        "4\n",
        "None\n"
       ]
      }
     ],
     "prompt_number": 40
    },
    {
     "cell_type": "code",
     "collapsed": false,
     "input": [
      "##default parameters\n",
      "def f2(a, b=1, c='string'):\n",
      "    return a + b\n",
      "\n",
      "print f2(5)\n",
      "print f2(5, b=2, c='3')"
     ],
     "language": "python",
     "metadata": {},
     "outputs": [
      {
       "output_type": "stream",
       "stream": "stdout",
       "text": [
        "6\n",
        "7\n"
       ]
      }
     ],
     "prompt_number": 48
    },
    {
     "cell_type": "code",
     "collapsed": false,
     "input": [
      "##mutable types\n",
      "x = 'foo'\n",
      "y = x\n",
      "print x # foo\n",
      "y += 'bar'\n",
      "print x # foo\n",
      "\n",
      "x = [1, 2, 3]\n",
      "y = x\n",
      "print x # [1, 2, 3]\n",
      "y += [3, 2, 1]\n",
      "print x # [1, 2, 3, 3, 2, 1]\n",
      "\n",
      "def func(val):\n",
      "    val += 'bar'\n",
      "\n",
      "x = 'foo'\n",
      "print x # foo\n",
      "func(x)\n",
      "print x # foo\n",
      "\n",
      "def func(val):\n",
      "    val += [3, 2, 1]\n",
      "\n",
      "x = [1, 2, 3]\n",
      "print x # [1, 2, 3]\n",
      "func(x)\n",
      "print x # [1, 2, 3, 3, 2, 1]"
     ],
     "language": "python",
     "metadata": {},
     "outputs": [
      {
       "output_type": "stream",
       "stream": "stdout",
       "text": [
        "foo\n",
        "foo\n",
        "[1, 2, 3]\n",
        "[1, 2, 3, 3, 2, 1]\n",
        "foo\n",
        "foo\n",
        "[1, 2, 3]\n",
        "[1, 2, 3, 3, 2, 1]\n"
       ]
      }
     ],
     "prompt_number": 19
    },
    {
     "cell_type": "code",
     "collapsed": false,
     "input": [
      "def func(val):\n",
      "    val += [3, 2, 1]\n",
      "\n",
      "x = [1, 2, 3]\n",
      "print x # [1, 2, 3]\n",
      "func(x)\n",
      "print x # [1, 2, 3, 3, 2, 1]"
     ],
     "language": "python",
     "metadata": {},
     "outputs": [
      {
       "output_type": "stream",
       "stream": "stdout",
       "text": [
        "[1, 2, 3]\n",
        "[1, 2, 3, 3, 2, 1]\n"
       ]
      }
     ],
     "prompt_number": 52
    },
    {
     "cell_type": "code",
     "collapsed": false,
     "input": [
      "## globals\n",
      "g = 0\n",
      "\n",
      "def f1():\n",
      "    global g # Needed to modify global copy of g\n",
      "    g = 1\n",
      "\n",
      "def f2():\n",
      "    print g\n",
      "\n",
      "print g\n",
      "f1()\n",
      "print g\n",
      "f2()"
     ],
     "language": "python",
     "metadata": {},
     "outputs": [
      {
       "output_type": "stream",
       "stream": "stdout",
       "text": [
        "0\n",
        "1\n",
        "1\n"
       ]
      }
     ],
     "prompt_number": 54
    },
    {
     "cell_type": "markdown",
     "metadata": {},
     "source": [
      "**Control flow**\n",
      "\n",
      "There are two major types of programming languages, procedural and functional. Python is mostly procedural, with very simple functional elements. Procedural languages typicaly have very strong control flow specifications."
     ]
    },
    {
     "cell_type": "code",
     "collapsed": false,
     "input": [
      "# for loops\n",
      "for b in [1, 2, 3]:\n",
      "    print b"
     ],
     "language": "python",
     "metadata": {},
     "outputs": [
      {
       "output_type": "stream",
       "stream": "stdout",
       "text": [
        "1\n",
        "2\n",
        "3\n"
       ]
      }
     ],
     "prompt_number": 26
    },
    {
     "cell_type": "code",
     "collapsed": false,
     "input": [
      "# while, break and continue\n",
      "b = 0\n",
      "while b < 10:\n",
      "    b += 1\n",
      "    a = 2\n",
      "    if b%a == 0:\n",
      "        #break\n",
      "        continue\n",
      "    print b"
     ],
     "language": "python",
     "metadata": {},
     "outputs": [
      {
       "output_type": "stream",
       "stream": "stdout",
       "text": [
        "1\n",
        "3\n",
        "5\n",
        "7\n",
        "9\n"
       ]
      }
     ],
     "prompt_number": 33
    },
    {
     "cell_type": "code",
     "collapsed": false,
     "input": [
      "## if else\n",
      "a = 1\n",
      "if a == 3:\n",
      "    print '3'\n",
      "elif a == 4:\n",
      "    print '4'\n",
      "else:\n",
      "    print 'something else..'"
     ],
     "language": "python",
     "metadata": {},
     "outputs": [
      {
       "output_type": "stream",
       "stream": "stdout",
       "text": [
        "something else..\n"
       ]
      }
     ],
     "prompt_number": 34
    },
    {
     "cell_type": "code",
     "collapsed": false,
     "input": [
      "## error handling - use sparingly!\n",
      "## python culture: easier to apologise than to verify!\n",
      "def divide(x, y):\n",
      "    try:\n",
      "        result = x / y\n",
      "    except ZeroDivisionError:\n",
      "        print \"division by zero!\"\n",
      "        #raise ZeroDivisionError\n",
      "        #pass\n",
      "    else:\n",
      "        print \"result is\", result\n",
      "    finally:\n",
      "        print \"executing finally clause\"\n",
      "divide(1,0)"
     ],
     "language": "python",
     "metadata": {},
     "outputs": [
      {
       "output_type": "stream",
       "stream": "stdout",
       "text": [
        "division by zero!\n",
        "executing finally clause\n"
       ]
      }
     ],
     "prompt_number": 37
    },
    {
     "cell_type": "markdown",
     "metadata": {},
     "source": [
      "**Python modules**\n",
      "\n",
      ">import xls\n",
      "\"How can you simply import Excel !?!\"\n",
      "\n",
      "- How Python is structured:\n",
      "\n",
      "Packages are the way code libraries are distributed. Libraries contain one or several modules. Each module can contain object classes, functions and submodules.\n",
      "\n",
      "- Object introspection.\n",
      "\n",
      "It happens often that some Python code that you require is not well documented. To understand how to use the code one can interogate any object during runtime. Aditionally the code is always located somewhere on your computer.\n"
     ]
    },
    {
     "cell_type": "code",
     "collapsed": false,
     "input": [
      "import math\n",
      "print dir()\n",
      "print dir(math)\n",
      "print help(math.log)\n",
      "a = 3\n",
      "print type(a)\n",
      "import numpy\n",
      "print numpy.__version__\n",
      "import os\n",
      "print os.getcwd()"
     ],
     "language": "python",
     "metadata": {},
     "outputs": [
      {
       "output_type": "stream",
       "stream": "stdout",
       "text": [
        "['In', 'Out', '_', '_10', '_11', '_12', '_28', '_4', '_6', '_8', '_9', '__', '___', '__builtin__', '__builtins__', '__doc__', '__name__', '__package__', '_dh', '_i', '_i1', '_i10', '_i11', '_i12', '_i13', '_i14', '_i15', '_i16', '_i17', '_i18', '_i19', '_i2', '_i20', '_i21', '_i22', '_i23', '_i24', '_i25', '_i26', '_i27', '_i28', '_i29', '_i3', '_i30', '_i31', '_i32', '_i33', '_i34', '_i35', '_i36', '_i37', '_i38', '_i39', '_i4', '_i40', '_i41', '_i42', '_i43', '_i44', '_i45', '_i46', '_i47', '_i48', '_i49', '_i5', '_i50', '_i51', '_i52', '_i53', '_i54', '_i55', '_i6', '_i7', '_i8', '_i9', '_ih', '_ii', '_iii', '_oh', '_sh', 'a', 'b', 'c', 'd', 'exit', 'f', 'f1', 'f2', 'func', 'g', 'get_ipython', 'math', 'mu', 'op', 'operation', 'quit', 't', 'x', 'y']\n",
        "['__doc__', '__name__', '__package__', 'acos', 'acosh', 'asin', 'asinh', 'atan', 'atan2', 'atanh', 'ceil', 'copysign', 'cos', 'cosh', 'degrees', 'e', 'erf', 'erfc', 'exp', 'expm1', 'fabs', 'factorial', 'floor', 'fmod', 'frexp', 'fsum', 'gamma', 'hypot', 'isinf', 'isnan', 'ldexp', 'lgamma', 'log', 'log10', 'log1p', 'modf', 'pi', 'pow', 'radians', 'sin', 'sinh', 'sqrt', 'tan', 'tanh', 'trunc']\n",
        "Help on built-in function log in module math:\n",
        "\n",
        "log(...)\n",
        "    log(x[, base])\n",
        "    \n",
        "    Return the logarithm of x to the given base.\n",
        "    If the base not specified, returns the natural logarithm (base e) of x.\n",
        "\n",
        "None\n",
        "<type 'int'>\n",
        "1.8.2"
       ]
      },
      {
       "output_type": "stream",
       "stream": "stdout",
       "text": [
        "\n",
        "/home/sergiun/data/work/course\n"
       ]
      }
     ],
     "prompt_number": 55
    },
    {
     "cell_type": "markdown",
     "metadata": {},
     "source": []
    },
    {
     "cell_type": "markdown",
     "metadata": {},
     "source": [
      "**Task:**\n",
      "\n",
      "Compute the distance between 2D points. Define a module containing a function that computes the euclidian distance."
     ]
    },
    {
     "cell_type": "code",
     "collapsed": false,
     "input": [
      "\"\"\"\n",
      "%run full(relative)path/distance.py\n",
      "\n",
      "or\n",
      "os.setcwd(path)\n",
      "\n",
      "or\n",
      "find the site-packages folder\n",
      "\n",
      "or\n",
      "uptate your PATH OS variable\n",
      "\"\"\"\n",
      "import distance\n",
      "print distance.euclidian(1, 2, 4.5 , 6)\n",
      "\n",
      "from distance import euclidian\n",
      "print euclidian(1, 2, 4.5 , 6)\n",
      "\n",
      "import distance as d\n",
      "print d.euclidian(1, 2, 4.5 , 6)"
     ],
     "language": "python",
     "metadata": {},
     "outputs": []
    },
    {
     "cell_type": "code",
     "collapsed": false,
     "input": [],
     "language": "python",
     "metadata": {},
     "outputs": []
    },
    {
     "cell_type": "markdown",
     "metadata": {},
     "source": [
      "**Strings**"
     ]
    },
    {
     "cell_type": "code",
     "collapsed": false,
     "input": [
      "#String declarations\n",
      "statement = \"Gene IDs are great. My favorite gene ID is\"\n",
      "name = \"At5G001024\"\n",
      "statement = statement + \" \" + name\n",
      "print statement\n",
      "\n",
      "statement2 = 'Genes names \\n \\'are great. My favorite gene name is ' + 'Afldtjahd'\n",
      "statement3 = \"\"\"\n",
      "Gene IDs are great.\n",
      "My favorite genes are {}.\"\"\".format(name)\n",
      "\n",
      "print statement2\n",
      "print statement3\n",
      "print '.\\n'.join(statement.split(\". \"))"
     ],
     "language": "python",
     "metadata": {},
     "outputs": [
      {
       "output_type": "stream",
       "stream": "stdout",
       "text": [
        "Gene IDs are great. My favorite gene ID is At5G001024\n",
        "Genes names \n",
        " 'are great. My favorite gene name is Afldtjahd\n",
        "\n",
        "Gene IDs are great.\n",
        "My favorite genes are At5G001024.\n",
        "Gene IDs are great.\n",
        "My favorite gene ID is At5G001024\n"
       ]
      }
     ],
     "prompt_number": 58
    },
    {
     "cell_type": "code",
     "collapsed": false,
     "input": [
      "#String methods\n",
      "name = \"At5G001024\"\n",
      "print name.lower()\n",
      "print name.index('G')\n",
      "print name.rstrip('402')\n",
      "print name.strip('A2')"
     ],
     "language": "python",
     "metadata": {},
     "outputs": [
      {
       "output_type": "stream",
       "stream": "stdout",
       "text": [
        "at5g001024\n",
        "3\n",
        "At5G001\n",
        "t5G001024\n"
       ]
      }
     ],
     "prompt_number": 44
    },
    {
     "cell_type": "code",
     "collapsed": false,
     "input": [
      "#Splits, joins\n",
      "statement = \"Gene IDs are great. My favorite gene ID is At5G001024\"\n",
      "words = statement.split()\n",
      "print \"Splitting a string:\", words\n",
      "print \"Joining into a string:\", \"\\t \".join(words)\n",
      "import random\n",
      "random.shuffle(words)\n",
      "print \"Fun:\", \" \".join(words)"
     ],
     "language": "python",
     "metadata": {},
     "outputs": [
      {
       "output_type": "stream",
       "stream": "stdout",
       "text": [
        "Splitting a string: ['Gene', 'IDs', 'are', 'great.', 'My', 'favorite', 'gene', 'ID', 'is', 'At5G001024']\n",
        "Joining into a string: Gene\t IDs\t are\t great.\t My\t favorite\t gene\t ID\t is\t At5G001024\n",
        "Fun: Gene are At5G001024 great. is favorite gene ID My IDs\n"
       ]
      }
     ],
     "prompt_number": 60
    },
    {
     "cell_type": "code",
     "collapsed": false,
     "input": [
      "#Strings are lists of characters!\n",
      "print statement\n",
      "print statement[0:5] + \" blabla \" + statement[-10:-5]"
     ],
     "language": "python",
     "metadata": {},
     "outputs": [
      {
       "output_type": "stream",
       "stream": "stdout",
       "text": [
        "Gene IDs are great. My favorite gene ID is At5G001024\n",
        "Gene  blabla At5G0\n"
       ]
      }
     ],
     "prompt_number": 48
    },
    {
     "cell_type": "markdown",
     "metadata": {},
     "source": [
      "**Tuples**\n",
      "\n",
      "A few pros for tuples:\n",
      "- Tuples are faster than lists\n",
      "- Tuples can be keys to dictionaires (they are immutable types)"
     ]
    },
    {
     "cell_type": "code",
     "collapsed": false,
     "input": [
      "#a tupple is an immutable list\n",
      "a = (1, \"spam\", 5)\n",
      "#a.append(\"eggs\")\n",
      "\n",
      "print a[1]\n",
      "b = (1, \"one\")\n",
      "c = (a, b, 3)\n",
      "print c\n",
      "\n",
      "#unpacking a collection into positional arguments\n",
      "def sum(a, b):\n",
      "    return a + b\n",
      "values = (5, 2)\n",
      "s = sum(*values)\n",
      "print s"
     ],
     "language": "python",
     "metadata": {},
     "outputs": [
      {
       "output_type": "stream",
       "stream": "stdout",
       "text": [
        "spam\n",
        "((1, 'spam', 5), (1, 'one'), 3)\n",
        "7\n"
       ]
      }
     ],
     "prompt_number": 63
    },
    {
     "cell_type": "markdown",
     "metadata": {},
     "source": [
      "**Lists**\n"
     ]
    },
    {
     "cell_type": "code",
     "collapsed": false,
     "input": [
      "a = [1,\"one\",(2,\"two\")]\n",
      "print a[0]\n",
      "print a\n",
      "a.append(3)\n",
      "print a\n",
      "b =  a + a[:2]\n",
      "print b"
     ],
     "language": "python",
     "metadata": {},
     "outputs": [
      {
       "output_type": "stream",
       "stream": "stdout",
       "text": [
        "1\n",
        "[1, 'one', (2, 'two')]\n",
        "[1, 'one', (2, 'two'), 3]\n",
        "[1, 'one', (2, 'two'), 3, 1, 'one']\n"
       ]
      }
     ],
     "prompt_number": 64
    },
    {
     "cell_type": "code",
     "collapsed": false,
     "input": [
      "##slicing and indexing\n",
      "print b[2:5]\n",
      "del a[-1]\n",
      "print a\n",
      "print a.index(\"one\")\n",
      "print len(a)"
     ],
     "language": "python",
     "metadata": {},
     "outputs": [
      {
       "output_type": "stream",
       "stream": "stdout",
       "text": [
        "[(2, 'two'), 3, 1]\n",
        "[1, 'one', (2, 'two')]\n",
        "1\n",
        "3\n"
       ]
      }
     ],
     "prompt_number": 65
    },
    {
     "cell_type": "code",
     "collapsed": false,
     "input": [
      "##arrays elements are scoping free!\n",
      "def f(a, b):\n",
      "    a[1] = \"changed\"\n",
      "    b = [1,2]\n",
      "    return\n",
      "a = [(2, 'two'), 3, 1]\n",
      "b = [2, \"two\"]\n",
      "f(a, b)\n",
      "print a, b"
     ],
     "language": "python",
     "metadata": {},
     "outputs": [
      {
       "output_type": "stream",
       "stream": "stdout",
       "text": [
        "[(2, 'two'), 'changed', 1] [2, 'two']\n"
       ]
      }
     ],
     "prompt_number": 66
    },
    {
     "cell_type": "code",
     "collapsed": false,
     "input": [
      "##matrix\n",
      "matrix = [\n",
      "    [1, 2, 3, 4],\n",
      "    [5, 6, 7, 8],\n",
      "    [9, 10, 11, 12]]\n",
      "\n",
      "print matrix\n",
      "print matrix[0][1]\n",
      "\n",
      "for x in range(len(matrix)):\n",
      "    for y in range(len(matrix[x])):\n",
      "        print x,y, matrix[x][y]"
     ],
     "language": "python",
     "metadata": {},
     "outputs": [
      {
       "output_type": "stream",
       "stream": "stdout",
       "text": [
        "[[1, 2, 3, 4], [5, 6, 7, 8], [9, 10, 11, 12]]\n",
        "2\n",
        "0 0 1\n",
        "0 1 2\n",
        "0 2 3\n",
        "0 3 4\n",
        "1 0 5\n",
        "1 1 6\n",
        "1 2 7\n",
        "1 3 8\n",
        "2 0 9\n",
        "2 1 10\n",
        "2 2 11\n",
        "2 3 12\n"
       ]
      }
     ],
     "prompt_number": 61
    },
    {
     "cell_type": "code",
     "collapsed": false,
     "input": [
      "##ranges\n",
      "r = range(0, 5)\n",
      "for i in r: print \"step\", i\n",
      "    \n",
      "##list comprehensions\n",
      "a = [2*i for i in range(10)]\n",
      "print a\n",
      "b = [str(e) for e in a[4:] if e%3==0]\n",
      "print b\n",
      "\n",
      "##ordering tupples\n",
      "a = [(str(i), str(j)) for i in a for j in range(3)]\n",
      "print a\n",
      "a.sort(key=lambda tup: tup[1])\n",
      "a.sort(key=lambda tup: len(tup[1]), reverse = True)\n",
      "print a"
     ],
     "language": "python",
     "metadata": {},
     "outputs": [
      {
       "output_type": "stream",
       "stream": "stdout",
       "text": [
        "step 0\n",
        "step 1\n",
        "step 2\n",
        "step 3\n",
        "step 4\n",
        "[0, 2, 4, 6, 8, 10, 12, 14, 16, 18]\n",
        "['12', '18']\n",
        "[('0', '0'), ('0', '1'), ('0', '2'), ('2', '0'), ('2', '1'), ('2', '2'), ('4', '0'), ('4', '1'), ('4', '2'), ('6', '0'), ('6', '1'), ('6', '2'), ('8', '0'), ('8', '1'), ('8', '2'), ('10', '0'), ('10', '1'), ('10', '2'), ('12', '0'), ('12', '1'), ('12', '2'), ('14', '0'), ('14', '1'), ('14', '2'), ('16', '0'), ('16', '1'), ('16', '2'), ('18', '0'), ('18', '1'), ('18', '2')]\n",
        "[('0', '0'), ('2', '0'), ('4', '0'), ('6', '0'), ('8', '0'), ('10', '0'), ('12', '0'), ('14', '0'), ('16', '0'), ('18', '0'), ('0', '1'), ('2', '1'), ('4', '1'), ('6', '1'), ('8', '1'), ('10', '1'), ('12', '1'), ('14', '1'), ('16', '1'), ('18', '1'), ('0', '2'), ('2', '2'), ('4', '2'), ('6', '2'), ('8', '2'), ('10', '2'), ('12', '2'), ('14', '2'), ('16', '2'), ('18', '2')]\n"
       ]
      }
     ],
     "prompt_number": 67
    },
    {
     "cell_type": "code",
     "collapsed": false,
     "input": [
      "#zipping and enumerating\n",
      "print zip(['one', 'two', 'three'], [1, 2, 3])\n",
      "x = [1, 2, 3]\n",
      "y = [4, 5, 6]\n",
      "zipped = zip(x, y)\n",
      "print zipped\n",
      "x2, y2 = zip(*zipped)\n",
      "print x == list(x2) and y == list(y2)\n",
      "print x2, y2\n",
      "alist = ['a1', 'a2', 'a3']\n",
      "\n",
      "for i, e in enumerate(alist): print i, e"
     ],
     "language": "python",
     "metadata": {},
     "outputs": [
      {
       "output_type": "stream",
       "stream": "stdout",
       "text": [
        "[('one', 1), ('two', 2), ('three', 3)]\n",
        "[(1, 4), (2, 5), (3, 6)]\n",
        "True\n",
        "(1, 2, 3) (4, 5, 6)\n",
        "0 a1\n",
        "1 a2\n",
        "2 a3\n"
       ]
      }
     ],
     "prompt_number": 63
    },
    {
     "cell_type": "code",
     "collapsed": false,
     "input": [
      "#mapping\n",
      "a = [1, 2, 3, 4, 5]\n",
      "b = [2, 2, 9, 0, 9]\n",
      "print map(lambda x: max(x), zip(a, b))\n",
      "print zip(a, b)"
     ],
     "language": "python",
     "metadata": {},
     "outputs": [
      {
       "output_type": "stream",
       "stream": "stdout",
       "text": [
        "[2, 2, 9, 4, 9]\n",
        "[(1, 2), (2, 2), (3, 9), (4, 0), (5, 9)]\n"
       ]
      }
     ],
     "prompt_number": 68
    },
    {
     "cell_type": "code",
     "collapsed": false,
     "input": [
      "# deep and shallow copies on mutable objects or collections of mutable objects\n",
      "lst1 = ['a','b',['ab','ba']]\n",
      "lst2 = lst1\n",
      "lst2[0]='e'\n",
      "print lst1\n",
      "\n",
      "lst1 = ['a','b',['ab','ba']]\n",
      "lst2 = lst1[:]\n",
      "lst2[0] = 'e'\n",
      "lst2[2][1] = 'd'\n",
      "print lst1\n",
      "\n",
      "from copy import deepcopy\n",
      "lst1 = ['a','b',['ab','ba']]\n",
      "lst2 = deepcopy(lst1)\n",
      "lst2[2][1] = \"d\"\n",
      "lst2[0] = \"c\";\n",
      "print(lst2)\n",
      "print(lst1)"
     ],
     "language": "python",
     "metadata": {},
     "outputs": [
      {
       "output_type": "stream",
       "stream": "stdout",
       "text": [
        "['e', 'b', ['ab', 'ba']]\n",
        "['a', 'b', ['ab', 'd']]\n",
        "['c', 'b', ['ab', 'd']]\n",
        "['a', 'b', ['ab', 'ba']]\n"
       ]
      }
     ],
     "prompt_number": 54
    },
    {
     "cell_type": "markdown",
     "metadata": {},
     "source": [
      "**Sets**\n",
      "\n",
      "Sets have no order and cannot include identical elements. Use them when the position of elements is not relevant. Finding elements is faster than in a list. Also set operations are more straightforward. A frozen set has a hash value."
     ]
    },
    {
     "cell_type": "code",
     "collapsed": false,
     "input": [
      "# set vs. frozenset\n",
      "s = set()\n",
      "#s = frozenset()\n",
      "s.add(1)\n",
      "s = s | set([2,\"three\"])\n",
      "s |= set([2,\"three\"])\n",
      "s.add(2)\n",
      "s.remove(1)\n",
      "print s\n",
      "print \"three\" in s"
     ],
     "language": "python",
     "metadata": {},
     "outputs": [
      {
       "output_type": "stream",
       "stream": "stdout",
       "text": [
        "set([2, 'three'])\n",
        "True\n"
       ]
      }
     ],
     "prompt_number": 67
    },
    {
     "cell_type": "code",
     "collapsed": false,
     "input": [
      "s1 = set(range(10))\n",
      "s2 = set(range(5,15))\n",
      "s3 = s1 & s2\n",
      "print s1, s2, s3\n",
      "s3 = s1 - s2\n",
      "print s1, s2, s3\n",
      "print s3 <= s1\n",
      "s3 = s1 ^ s2\n",
      "print s1, s2, s3"
     ],
     "language": "python",
     "metadata": {},
     "outputs": [
      {
       "output_type": "stream",
       "stream": "stdout",
       "text": [
        "set([0, 1, 2, 3, 4, 5, 6, 7, 8, 9]) set([5, 6, 7, 8, 9, 10, 11, 12, 13, 14]) set([8, 9, 5, 6, 7])\n",
        "set([0, 1, 2, 3, 4, 5, 6, 7, 8, 9]) set([5, 6, 7, 8, 9, 10, 11, 12, 13, 14]) set([0, 1, 2, 3, 4])\n",
        "True\n",
        "set([0, 1, 2, 3, 4, 5, 6, 7, 8, 9]) set([5, 6, 7, 8, 9, 10, 11, 12, 13, 14]) set([0, 1, 2, 3, 4, 10, 11, 12, 13, 14])\n"
       ]
      }
     ],
     "prompt_number": 68
    },
    {
     "cell_type": "markdown",
     "metadata": {},
     "source": [
      "**Dictionary**\n",
      "\n",
      "A set of key: value pairs. Keys must be hashable elements, values can be any Python datatype."
     ]
    },
    {
     "cell_type": "code",
     "collapsed": false,
     "input": [
      "d = {'geneid9': 100, 'geneid8': 90, 'geneid7': 80, 'geneid6': 70, 'geneid5': 60, 'geneid4': 50}\n",
      "\n",
      "d = {}\n",
      "d['geneid10'] = 110\n",
      "\n",
      "#Creation: dict(list)\n",
      "genes = ['geneid1', 'geneid2', 'geneid3']\n",
      "values = [20, 30, 40]\n",
      "d = dict(zip(genes, values))\n",
      "print d\n",
      "\n",
      "#Creation: dictionary comprehensions\n",
      "d2 = { 'geneid'+str(i):10*(i+1) for i in range(4, 10) }\n",
      "print d2\n",
      "\n",
      "print d.keys()\n",
      "print d.values()\n",
      "for k in d.keys(): print k, d[k]\n"
     ],
     "language": "python",
     "metadata": {},
     "outputs": [
      {
       "output_type": "stream",
       "stream": "stdout",
       "text": [
        "{'geneid3': 40, 'geneid2': 30, 'geneid1': 20}\n",
        "{'geneid9': 100, 'geneid8': 90, 'geneid7': 80, 'geneid6': 70, 'geneid5': 60, 'geneid4': 50}\n",
        "['geneid3', 'geneid2', 'geneid1']\n",
        "[40, 30, 20]\n",
        "geneid3 40\n",
        "geneid2 30\n",
        "geneid1 20\n"
       ]
      }
     ],
     "prompt_number": 69
    },
    {
     "cell_type": "raw",
     "metadata": {},
     "source": [
      "Task: Find the dictionary key corresponding to a certain value. Why is Python not offering a native method for this?"
     ]
    },
    {
     "cell_type": "code",
     "collapsed": false,
     "input": [
      "d = {'geneid9': 100, 'geneid8': 90, 'geneid7': 90, 'geneid6': 70, 'geneid5': 60, 'geneid4': 50}\n",
      "\n",
      "def getkey(value):\n",
      "    ks = set()\n",
      "    for k in d.keys():\n",
      "        if d[k]==value: ks.add(k)\n",
      "    return ks\n",
      "\n",
      "print getkey(90)"
     ],
     "language": "python",
     "metadata": {},
     "outputs": [
      {
       "output_type": "stream",
       "stream": "stdout",
       "text": [
        "set(['geneid7', 'geneid8'])\n"
       ]
      }
     ],
     "prompt_number": 69
    },
    {
     "cell_type": "code",
     "collapsed": false,
     "input": [
      "def get_key(dict, value):\n",
      "    \"\"\"find the dictionary key corresponding to a certain value\"\"\"\n",
      "    return key\n",
      "\n",
      "# import random\n",
      "# chars=string.ascii_uppercase + string.digits\n",
      "# for i in range(10):\n",
      "#     geneid = ''.join(random.choice(chars) for _ in range(size))\n",
      "#     value = random.randint(10,20)\n",
      "\n",
      "d = {d2 'geneid'+str(i):10*(i+1) for i in range(4, 10) }\n",
      "print get_key(d,'geneid4')\n"
     ],
     "language": "python",
     "metadata": {},
     "outputs": []
    },
    {
     "cell_type": "markdown",
     "metadata": {},
     "source": [
      "**Objects and Classes**\n",
      "\n",
      "Everything is an object in python and every variable is a reference to an object. References map the adress in memory where an object lies. However this is kept hidden in Python. C was famous for not cleaning up the adress space after alocating memory for it's data structures. This was causing leaks that makes some programs gain more and more RAM space. Modern languages cleanup dynamically after the scope of a variable ended, something called \"garbage collecting\". However this is afecting their speed.\n",
      "\n",
      "\n",
      "Instantiation, Fields, Methods, Decomposition into classes, Inheritance"
     ]
    },
    {
     "cell_type": "code",
     "collapsed": false,
     "input": [
      "class BaseSequence(object):\n",
      "    \n",
      "    def cleanup_sequence(self, seqstring):\n",
      "        \"\"\"Task 1.2\n",
      "        Use self.ValidChars to get the valid characters for each class.\n",
      "        \"\"\"\n",
      "        cleandseq = \"\"\n",
      "        return cleanedseq\n",
      "    \n",
      "    def __init__(self, seqstring):\n",
      "        self.seq = seqstring\n",
      "        return\n",
      "        \n",
      "    def cg_content(self):\n",
      "        \"\"\"\"Method example: Return the percentage of G and C characters in the sequence\"\"\"\n",
      "        seq = self.seq\n",
      "        return (seq.count('G') + seq.count('C')) / float(len(seq))\n",
      "\n",
      "class DNASequence(BaseSequence):\n",
      "    ValidChars = 'TCAG'\n",
      "    \n",
      "    def __init__(self, seqstring):\n",
      "        super(DNASequence, self).__init__(seqstring)\n",
      "        return\n",
      "\n",
      "    def transcribe(self):\n",
      "        \"\"\"Produce an RNASequence string\"\"\"\n",
      "        import string\n",
      "        tbl = string.maketrans('TCGA', 'AGCU')\n",
      "        return self.get_sequence().translate(tbl)\n",
      "            \n",
      "#There are no valid characters in the parent class\n",
      "#bs = BaseSequence('kajsdfhslkjfhiugdfj')\n",
      "#dna = DNASequence('aCtgHIccctga')\n",
      "\n",
      "seq = \"\"\"\n",
      "ACAAGATGCCATTGTCCCCCGGCCTCCTGCTGCTGCTGCTCTCCGGGGCCACGGCCACCGCTGCCCTGCC\n",
      "CCTGGAGGGTGGCCCCACCGGCCGAGACAGCGAGCATATGCAGGAAGCGGCAGGAATAAGGAAAAGCAGC\n",
      "CTCCTGACTTTCCTCGCTTGGTGGTTTGAGTGGACCTCCCAGGCCAGTGCCGGGCCCCTCATAGGAGAGG\n",
      "AAGCTCGGGAGGTGGCCAGGCGGCAGGAAGGCGCACCCCCCCAGCAATCCGCGCGCCGGGACAGAATGCC\n",
      "CTGCAGGAACTTCTTCTGGAAGACCTTCTCCTCCTGCAAATAAAACCTCACCCATGAATGCTCACGCAAG\n",
      "TTTAATTACAGACCTGAA\n",
      "\"\"\"\n",
      "dna = DNASequence(seq.replace('\\n',''))\n",
      "print dna.cg_content()\n",
      "print dna.transcribe()\n"
     ],
     "language": "python",
     "metadata": {},
     "outputs": [
      {
       "output_type": "stream",
       "stream": "stdout",
       "text": [
        "0.619565217391\n",
        "UGUUCUACGGUAACAGGGGGCCGGAGGACGACGACGACGAGAGGCCCCGGUGCCGGUGGCGACGGGACGGGGACCUCCCACCGGGGUGGCCGGCUCUGUCGCUCGUAUACGUCCUUCGCCGUCCUUAUUCCUUUUCGUCGGAGGACUGAAAGGAGCGAACCACCAAACUCACCUGGAGGGUCCGGUCACGGCCCGGGGAGUAUCCUCUCCUUCGAGCCCUCCACCGGUCCGCCGUCCUUCCGCGUGGGGGGGUCGUUAGGCGCGCGGCCCUGUCUUACGGGACGUCCUUGAAGAAGACCUUCUGGAAGAGGAGGACGUUUAUUUUGGAGUGGGUACUUACGAGUGCGUUCAAAUUAAUGUCUGGACUU\n"
       ]
      }
     ],
     "prompt_number": 80
    },
    {
     "cell_type": "markdown",
     "metadata": {},
     "source": [
      "Task:\n",
      "- Make an RNASequence class that inherits from the same parent as DNASequence.\n",
      "- Change the DNASequence class' transcribe() method to return an RNASequence instance.\n",
      "- RNASequence should have a translate() method for generating the protein sequence.\n",
      "- Extra: Expand BaseSequence to include a ProteinSequence class."
     ]
    },
    {
     "cell_type": "code",
     "collapsed": false,
     "input": [
      "map = {\"UUU\":\"F\", \"UUC\":\"F\", \"UUA\":\"L\", \"UUG\":\"L\",\n",
      "    \"UCU\":\"S\", \"UCC\":\"s\", \"UCA\":\"S\", \"UCG\":\"S\",\n",
      "    \"UAU\":\"Y\", \"UAC\":\"Y\", \"UAA\":\"STOP\", \"UAG\":\"STOP\",\n",
      "    \"UGU\":\"C\", \"UGC\":\"C\", \"UGA\":\"STOP\", \"UGG\":\"W\",\n",
      "    \"CUU\":\"L\", \"CUC\":\"L\", \"CUA\":\"L\", \"CUG\":\"L\",\n",
      "    \"CCU\":\"P\", \"CCC\":\"P\", \"CCA\":\"P\", \"CCG\":\"P\",\n",
      "    \"CAU\":\"H\", \"CAC\":\"H\", \"CAA\":\"Q\", \"CAG\":\"Q\",\n",
      "    \"CGU\":\"R\", \"CGC\":\"R\", \"CGA\":\"R\", \"CGG\":\"R\",\n",
      "    \"AUU\":\"I\", \"AUC\":\"I\", \"AUA\":\"I\", \"AUG\":\"M\",\n",
      "    \"ACU\":\"T\", \"ACC\":\"T\", \"ACA\":\"T\", \"ACG\":\"T\",\n",
      "    \"AAU\":\"N\", \"AAC\":\"N\", \"AAA\":\"K\", \"AAG\":\"K\",\n",
      "    \"AGU\":\"S\", \"AGC\":\"S\", \"AGA\":\"R\", \"AGG\":\"R\",\n",
      "    \"GUU\":\"V\", \"GUC\":\"V\", \"GUA\":\"V\", \"GUG\":\"V\",\n",
      "    \"GCU\":\"A\", \"GCC\":\"A\", \"GCA\":\"A\", \"GCG\":\"A\",\n",
      "    \"GAU\":\"D\", \"GAC\":\"D\", \"GAA\":\"E\", \"GAG\":\"E\",\n",
      "    \"GGU\":\"G\", \"GGC\":\"G\", \"GGA\":\"G\", \"GGG\":\"G\",}"
     ],
     "language": "python",
     "metadata": {},
     "outputs": []
    },
    {
     "cell_type": "heading",
     "level": 3,
     "metadata": {},
     "source": [
      "Standard library"
     ]
    },
    {
     "cell_type": "markdown",
     "metadata": {},
     "source": [
      "https://docs.python.org/2/library/\n",
      "\n",
      "- sys - system-specific parameters and functions\n",
      "- os - operating system interface\n",
      "- shutil - shell utilities\n",
      "- math - mathematical functions and constants\n",
      "- random - pseudorandom number generator\n",
      "- timeit - time it\n",
      "- format - number and text formating\n",
      "- zlib - file archiving\n",
      "- ... etc ..."
     ]
    },
    {
     "cell_type": "raw",
     "metadata": {},
     "source": [
      "The sys module. Command line arguments."
     ]
    },
    {
     "cell_type": "code",
     "collapsed": false,
     "input": [
      "import sys\n",
      "print sys.argv\n",
      "\n",
      "##getopt, sys.exit()\n",
      "##getopt.getopt(args, options[, long_options])\n",
      "# import getopt\n",
      "# try:\n",
      "#     opts, args = getopt.getopt(sys.argv[1:],\"hi:o:\",[\"ifile=\",\"ofile=\"])\n",
      "# except getopt.GetoptError:\n",
      "#     print 'test.py -i <inputfile> -o <outputfile>'\n",
      "#     sys.exit(2)\n",
      "# for opt, arg in opts:\n",
      "#     if opt == '-h':\n",
      "#         print 'test.py -i <inputfile> -o <outputfile>'\n",
      "#         sys.exit()\n",
      "#     elif opt in (\"-i\", \"--ifile\"):\n",
      "#         inputfile = arg\n",
      "#     elif opt in (\"-o\", \"--ofile\"):\n",
      "#         outputfile = arg\n",
      "# print inputfile, outputfile\n",
      "\n"
     ],
     "language": "python",
     "metadata": {},
     "outputs": [
      {
       "output_type": "stream",
       "stream": "stdout",
       "text": [
        "['-c', '-f', '/home/sergiun/.ipython/profile_default/security/kernel-3b6475fa-681a-412a-a2f9-5ecb63eb9236.json', \"--IPKernelApp.parent_appname='ipython-notebook'\", '--profile-dir', '/home/sergiun/.ipython/profile_default', '--parent=1']\n"
       ]
      }
     ],
     "prompt_number": 70
    },
    {
     "cell_type": "markdown",
     "metadata": {},
     "source": [
      "**File operations**\n",
      "\n",
      "The working directory, file IO, copy, rename and delete\n"
     ]
    },
    {
     "cell_type": "code",
     "collapsed": false,
     "input": [
      "import os\n",
      "print os.getcwd()\n",
      "#os.chdir(newpath)\n",
      "os.system('mkdir testdir')\n",
      "\n",
      "f = open('testfile.txt','w')\n",
      "f.write('One line of text\\n')\n",
      "f.write('Another line of text\\n')\n",
      "f.close()\n",
      "\n",
      "import shutil\n",
      "#shutil.copy('testfile.txt', 'testdir/')\n",
      "shutil.copyfile('testfile.txt', 'testdir/testfile1.txt')\n",
      "shutil.copyfile('testfile.txt', 'testdir/testfile2.txt')\n",
      "\n",
      "with open('testdir/testfile1.txt','r') as f:\n",
      "    for l in f: print l\n",
      "\n",
      "for fn in os.listdir(\"testdir/\"):\n",
      "    print fn\n",
      "    #fpath = os.path.join(dirpath,filename)\n",
      "    os.rename('testdir/'+fn, 'testdir/file'+fn[-5]+'.txt')\n",
      "\n",
      "import glob\n",
      "print glob.glob('testdir/*')\n",
      "\n",
      "os.remove('testdir/file2.txt')\n",
      "#os.rmdir('testdir')\n",
      "#shutil.rmtree(path)"
     ],
     "language": "python",
     "metadata": {},
     "outputs": [
      {
       "output_type": "stream",
       "stream": "stdout",
       "text": [
        "/home/sergiun/data/work/course\n",
        "One line of text\n",
        "\n",
        "Another line of text\n",
        "\n",
        "testfile1.txt\n",
        "testfile2.txt\n",
        "file2.txt\n",
        "file1.txt\n",
        "['testdir/file2.txt', 'testdir/file1.txt']\n"
       ]
      }
     ],
     "prompt_number": 37
    },
    {
     "cell_type": "raw",
     "metadata": {},
     "source": [
      "Timing"
     ]
    },
    {
     "cell_type": "code",
     "collapsed": false,
     "input": [
      "from datetime import datetime\n",
      "startTime = datetime.now()\n",
      "\n",
      "n = 10**8\n",
      "for i in range(n):\n",
      "    continue\n",
      "\n",
      "print datetime.now() - startTime"
     ],
     "language": "python",
     "metadata": {},
     "outputs": [
      {
       "output_type": "stream",
       "stream": "stdout",
       "text": [
        "0:00:06.661880\n"
       ]
      }
     ],
     "prompt_number": 43
    },
    {
     "cell_type": "raw",
     "metadata": {},
     "source": [
      "Processes\n",
      "\n",
      "Launching a process, Paralellization: shared resources, clusters, clouds"
     ]
    },
    {
     "cell_type": "code",
     "collapsed": false,
     "input": [
      "import os\n",
      "\n",
      "print os.system('/path/yourshellscript.sh args')\n",
      "\n",
      "from subprocess import call\n",
      "call([\"ls\", \"-l\"])\n",
      "\n",
      "args = ['/path/yourshellscript.sh', '-arg1', 'value1', '-arg2', 'value2']\n",
      "p = Popen(args, shell=True, bufsize=bufsize, \n",
      "          stdin=PIPE, stdout=PIPE, stderr=PIPE, close_fds=True)\n",
      "p.wait()\n",
      "(child_stdin, child_stdout, child_stderr) = (p.stdin, p.stdout, p.stderr)\n",
      "\n",
      "# def child():\n",
      "#    print 'A new child ',  os.getpid( )\n",
      "#    os._exit(0)  \n",
      "\n",
      "# def parent():\n",
      "#    while True:\n",
      "#       newpid = os.fork()\n",
      "#       if newpid == 0:\n",
      "#          child()\n",
      "#       else:\n",
      "#          pids = (os.getpid(), newpid)\n",
      "#          print \"parent: %d, child: %d\" % pids\n",
      "#       if raw_input( ) == 'q': break\n",
      "\n",
      "# parent()"
     ],
     "language": "python",
     "metadata": {},
     "outputs": [
      {
       "output_type": "stream",
       "stream": "stdout",
       "text": [
        "0\n"
       ]
      }
     ],
     "prompt_number": 46
    },
    {
     "cell_type": "raw",
     "metadata": {},
     "source": [
      "Questions:\n",
      "- What are the Python's native datatypes? Have a look at the Python online documentation for each datatype.\n",
      "- Python is a \"dynamic\" language. What does it mean?\n",
      "- Python is an \"interpreted\" language. What does it mean?\n",
      "- Which data strutures are mutable and which are immutable. When does this matters?\n",
      "- What is \"hash\" and how does it influences set and dictionary operations?\n",
      "- What are the most important Python libraries for you? Read through Anaconda's collection of libraries and check out some of them."
     ]
    },
    {
     "cell_type": "code",
     "collapsed": false,
     "input": [],
     "language": "python",
     "metadata": {},
     "outputs": [],
     "prompt_number": 45
    },
    {
     "cell_type": "code",
     "collapsed": false,
     "input": [],
     "language": "python",
     "metadata": {},
     "outputs": []
    }
   ],
   "metadata": {}
  }
 ]
}