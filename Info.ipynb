{
 "metadata": {
  "name": "",
  "signature": "sha256:a4f5ace71b38375a81eca919089de39a361e29ac002ef829a4cc6442f1d8152e"
 },
 "nbformat": 3,
 "nbformat_minor": 0,
 "worksheets": [
  {
   "cells": [
    {
     "cell_type": "heading",
     "level": 1,
     "metadata": {},
     "source": [
      "Course Information"
     ]
    },
    {
     "cell_type": "markdown",
     "metadata": {},
     "source": [
      "- About the course\n",
      "- About us\n",
      "- About you\n",
      "- Venue, credits, requirements\n",
      "- Bibliography"
     ]
    },
    {
     "cell_type": "heading",
     "level": 3,
     "metadata": {},
     "source": [
      "About the course"
     ]
    },
    {
     "cell_type": "markdown",
     "metadata": {},
     "source": [
      "This course is intended to be interactive (you will learn by doing things in groups and by watching me do it live and talking about it). I will use IPython, an environment that allows us to do everything in real time on the browser, so you will work locally on your computer and my working is visible on the projected screen. It basically allows you to take your own notes on the lecture notes, and run/modify the programs on your lecture notes. You will receive the course material before the course starts.\n",
      "\n",
      "[http://ipython.org/notebook.html](http://ipython.org/notebook.html)\n",
      "\n",
      "This is a short course that introduces the participants to using Python in the broad fields of molecular biology and biochemistry. It was designed to be done in less than a week, four days at an optimum pace or three for those that are already introduced to Python programming. It starts with a tutorial like introduction to programming with Python, thus even people with extremely limited programming skills can participate. It then goes to present how Python can be used to make simple to advanced plots, how one can use Python for scientific computation and in the final part it takes the participant through every 'omics level with small scale projects that are discussed and modified in the classroom. Before the end of it, participants also learn how to use Python to interogate remote data and databases, use Python in the Cloud, and wrap calls to other programming languages.\n",
      "\n",
      "This course will not guarantee you will be a good programmer in three days. Today learning to program is as important as learning to write. But it takes years to become a good programmer. What is important is to persevere! There is an intent to also offer similarly short courses but with a more targeted scope, like sequencing, metabolic modeling and systems biology."
     ]
    },
    {
     "cell_type": "heading",
     "level": 3,
     "metadata": {},
     "source": [
      "About us"
     ]
    },
    {
     "cell_type": "markdown",
     "metadata": {},
     "source": [
      "My name is Sergiu Netotea, I did studies in mathematics and computer science with a MsC in Romania where I also worked as a programmer, I obtained a PhD in Bioinformatics in Hungary and I did research for the latest 5 years in the US and Ume\u00e5 on various projects from plant and bacterial transcription and metabolic modeling to human cancer genome variation profiling. I do have a life, with a kid and a few hobbies.\n",
      "\n",
      "I am part of CLiC (Computational Life Science Cluster) and BILS (Bioinformatics Infrastructure for Life Sciences). CLiC is a network of research labs involved in computational biology in Ume\u00e5. BILS is a national infrastructure project for Sweden, offering various Bioinformatics services. This course is made under CLIC/BILS umbrella and there is an aim to have it in multiple locations in Sweden through the BILS network.\n",
      "\n",
      "[http://www.sergiuathome.info/](http://www.sergiuathome.info/)\n",
      "\n",
      "[http://clicumu.se/](http://clicumu.se/)\n",
      "\n",
      "[https://www.bils.se/](https://www.bils.se/)\n",
      "\n",
      "[https://www.bils.se/staff/sergiu-netotea/index.html](https://www.bils.se/staff/sergiu-netotea/index.html)\n",
      "\n",
      "[http://clicumu.se/clic-modelling-core-support-and-service/](http://clicumu.se/clic-modelling-core-support-and-service/)"
     ]
    },
    {
     "cell_type": "heading",
     "level": 3,
     "metadata": {},
     "source": [
      "About you"
     ]
    },
    {
     "cell_type": "markdown",
     "metadata": {},
     "source": [
      "We expect you to work in fields related to molecular biology and biochemistry, but more distant studies of ecology and clinical medicine are of course welcome. If you have a computer science or mathematics background, this course is still useful because it introduces to you data science for biology. Although you are welcome, we do not expect people that are already masters of Python for Bioinformatics for this course, but we would like to hear from you and we invite you for our more specialised future courses.\n",
      "\n",
      "This course has the secondary aim to establish working connections for myself and among the participants. So if you have a special interest to programming in your work I would like to know and perhaps make suggestions. You can either mail or come talk to me in person, before or after the course. In the future I hope to keep this course updated in order to meet your genereral interests."
     ]
    },
    {
     "cell_type": "heading",
     "level": 3,
     "metadata": {},
     "source": [
      "Venue, credits, pricing, requirements"
     ]
    },
    {
     "cell_type": "markdown",
     "metadata": {},
     "source": [
      "Venue will be announced later. I understood we will give you fika. Great!\n",
      "\n",
      "If it is a three days course then in principle you should get one credit for it if you are a PhD student. Currently it is not possible to credit undergrads for it. This info may change for each time I am holding the course so please enquire about it.\n",
      "\n",
      "Currently the course is 2700 SEK for three days, but depending on where it is held and for how long the pricing may change. If the local institution pays for it then it might be free for you, so please follow the local announcements.\n",
      "\n",
      "We hope not to have any special requirements from you, but we encourage you to bring your own laptop. We hope to hold the course in a computer lab, that will provide you with a computer in case you need it. Web access is not necessary but it is welcome. It is easier if you have access to a Linux operating system because in this case you can install the broadest number of tools and software libraries used in this course. However all operating systems are supported.\n",
      "\n",
      "Before the day of the course we will hold a small meeting to help those that want to prepare their software. This will be announced in due time."
     ]
    },
    {
     "cell_type": "heading",
     "level": 3,
     "metadata": {},
     "source": [
      "References"
     ]
    },
    {
     "cell_type": "markdown",
     "metadata": {},
     "source": [
      "We do not ask you to learn or read anything before the course starts or after it ends. But for those who wish to improve we recommend the following books:\n",
      "\n",
      "[Python for Biologists: A complete programming course for beginners](http://www.amazon.com/Python-Biologists-complete-programming-beginners/dp/1492346136/)\n",
      "\n",
      "This book will take you slowly through programming with Python reinforcing good programming skills.\n",
      "\n",
      "[Practical Computing for Biologists](http://www.amazon.com/Practical-Computing-Biologists-Steven-Haddock/dp/0878933913/)\n",
      "\n",
      "[Python for Biologists](http://pythonforbiologists.com/index.php/books/)\n",
      "\n",
      "As Python is surrounded by a whole computing galaxy, this book is an introduction to it having Python in its center.\n",
      "\n",
      "[Python for Data Analysis](http://shop.oreilly.com/product/0636920023784.do)\n",
      "\n",
      "Not strictly for researchers, this book is a slow introduction to Python's \"scientific computing stack\".\n",
      "\n",
      "\n",
      "We reccommend you to follow other BILS and SciLife courses as well:\n",
      "\n",
      "[https://wiki.bils.se/wiki/Training](https://wiki.bils.se/wiki/Training)\n",
      "\n",
      "[http://www.scilifelab.se/education/courses/](http://www.scilifelab.se/education/courses/)\n",
      "\n",
      "\n",
      "When you get stuck, I recommend you to use this venue for getting help:\n",
      "\n",
      "[http://stackoverflow.com/questions/tagged/python](http://stackoverflow.com/questions/tagged/python)\n",
      "\n",
      "And I recommend this forum for biology related Python dillemas:\n",
      "\n",
      "[https://www.biostars.org/](https://www.biostars.org/)\n",
      "\n",
      "While, if you need advisors in Sweden, you can try at our BILS - administered forum:\n",
      "\n",
      "[https://biosupport.se/](https://biosupport.se/)\n",
      "\n",
      "If you like blogs, this is a famous blog on scientific computing with Python:\n",
      "\n",
      "[http://glowingpython.blogspot.se/](http://glowingpython.blogspot.se/)\n",
      "\n",
      "Here is a nice collection of online IPython notebooks teaching various subjects in data science:\n",
      "\n",
      "[https://github.com/ipython/ipython/wiki/A-gallery-of-interesting-IPython-Notebooks](https://github.com/ipython/ipython/wiki/A-gallery-of-interesting-IPython-Notebooks)\n",
      "\n",
      "And not in the least, we also recommend you to learn other languages, if for no other reason than just to understand how awesome Python is by shear comparison. Javascript, Java, C, Matlab, R and Perl we feel are a must. And Swedish of course!"
     ]
    },
    {
     "cell_type": "code",
     "collapsed": false,
     "input": [],
     "language": "python",
     "metadata": {},
     "outputs": []
    }
   ],
   "metadata": {}
  }
 ]
}