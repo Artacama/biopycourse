{
 "metadata": {
  "name": "",
  "signature": "sha256:d6902d8f9cf00a60b5947f852df2ffe5ad45bc088f8447b6b3277ea1571da3c0"
 },
 "nbformat": 3,
 "nbformat_minor": 0,
 "worksheets": [
  {
   "cells": [
    {
     "cell_type": "heading",
     "level": 1,
     "metadata": {},
     "source": [
      "Python and the rest"
     ]
    },
    {
     "cell_type": "markdown",
     "metadata": {},
     "source": [
      "The \"rest\" can be an external program, a remote program or a library made for a different language. To a certain degree all languages became good at accessing external resources but Python excels at it. We learned how to access remote APIs. We will only learn here how to deal with C and R."
     ]
    },
    {
     "cell_type": "heading",
     "level": 3,
     "metadata": {},
     "source": [
      "Python and C"
     ]
    },
    {
     "cell_type": "markdown",
     "metadata": {},
     "source": [
      "There are ways to [extend Python with C and C++](https://docs.python.org/2/extending/extending.html), but it is cumbersome. There are different interpreters for Python, most popular being CPython which is the standard one and PyPy which is a just-in-time compiler and interpreter having speeds that match .js and Java. In principle the extension code needs to be re-written in order to run on different interpreters. \n",
      "\n",
      "Here is an example extension C code, written for the CPython interpreter. When compiled the spam function is callable from Python, so Python was extended with a new module.function():\n",
      "\n",
      "```\n",
      "static PyObject *\n",
      "spam_system(PyObject *self, PyObject *args)\n",
      "{\n",
      "    const char *command;\n",
      "    int sts;\n",
      "\n",
      "    if (!PyArg_ParseTuple(args, \"s\", &command))\n",
      "        return NULL;\n",
      "    sts = system(command);\n",
      "    return Py_BuildValue(\"i\", sts);\n",
      "}\n",
      "```\n",
      "\n",
      "**Enter [Cython](http://cython.org/).**\n",
      "\n",
      "Cython is a static compiler that makes it possible to combine C with Python. It is heavily promoted and used by the Scipy stack and it can run on PyPy too. The following code is written in Cython, and as you can see it does differ in one substantial way to Python: variable are statically declared. Another major difference is that this code does not run on an interpreter, instead it is compiled into C and assembled in machine code. A similar project exists for Java, called Jython.\n",
      "\n",
      "```\n",
      "def primes(int kmax):  # The argument will be converted to int or raise a TypeError.\n",
      "    cdef int n, k, i  # These variables are declared with C types.\n",
      "    cdef int p[1000]  # Another C type\n",
      "    result = []  # A Python type\n",
      "    if kmax > 1000:\n",
      "        kmax = 1000\n",
      "    k = 0\n",
      "    n = 2\n",
      "    while k < kmax:\n",
      "        i = 0\n",
      "        while i < k and n % p[i] != 0:\n",
      "            i = i + 1\n",
      "        if i == k:\n",
      "            p[k] = n\n",
      "            k = k + 1\n",
      "            result.append(n)\n",
      "        n = n + 1\n",
      "    return result\n",
      "```\n",
      "\n",
      "**SWIG**\n",
      "\n",
      "While Cython is cool, it does require you to write new code. If you have a C/C++ codebase and you want it in Python, perhaps the best option is SWIG. This is a multilanguage library, one can extend Tcl, Perl, Java and C# with it. Let's say you have the following pure C code containing a number of different functions:\n",
      "\n",
      "```\n",
      "/* File : example.c */\n",
      " \n",
      " #include <time.h>\n",
      " double My_variable = 3.0;\n",
      " \n",
      " int fact(int n) {\n",
      "     if (n <= 1) return 1;\n",
      "     else return n*fact(n-1);\n",
      " }\n",
      " \n",
      " int my_mod(int x, int y) {\n",
      "     return (x%y);\n",
      " }\n",
      " \t\n",
      " char *get_time()\n",
      " {\n",
      "     time_t ltime;\n",
      "     time(&ltime);\n",
      "     return ctime(&ltime);\n",
      " }\n",
      "```\n",
      "\n",
      "All you have to do is write an interface of the code to SWIG:\n",
      "```\n",
      "/* example.i */\n",
      " %module example\n",
      " %{\n",
      " /* Put header files here or function declarations like below */\n",
      " extern double My_variable;\n",
      " extern int fact(int n);\n",
      " extern int my_mod(int x, int y);\n",
      " extern char *get_time();\n",
      " %}\n",
      " \n",
      " extern double My_variable;\n",
      " extern int fact(int n);\n",
      " extern int my_mod(int x, int y);\n",
      " extern char *get_time();\n",
      "```\n",
      "\n",
      "Run a sequence of commands that compiles and links the code with special SWIG signatures. This is slightly different depending on the OS, what you see is Unix/Linux modus operandi.\n",
      "\n",
      "```\n",
      "swig -python example.i\n",
      "gcc -c example.c example_wrap.c -I/usr/local/include/python2.7\n",
      "ld -shared example.o example_wrap.o -o _example.so \n",
      "```\n",
      "\n",
      "On Python the result is a module like any other:\n",
      "\n",
      "```\n",
      " >>> import example\n",
      " >>> example.fact(5)\n",
      " 120\n",
      " >>> example.my_mod(7,3)\n",
      " 1\n",
      " >>> example.get_time()\n",
      " 'Sun Feb 11 23:01:07 1996'\n",
      "```"
     ]
    },
    {
     "cell_type": "heading",
     "level": 3,
     "metadata": {},
     "source": [
      "Talking to R"
     ]
    },
    {
     "cell_type": "markdown",
     "metadata": {},
     "source": [
      "While some Python and R programmers don't talk to each other, the languages do. It is possible to call Python from R (rpy) and R from Python (rPython). From our perspective it is more natural to call R from Python, in fact the library is much more developed in this direction.\n",
      "\n",
      "It requires a special module called rpy2. We will make use of R again in the 'omics chapters. For now let us use [this example](http://www2.warwick.ac.uk/fac/sci/moac/people/students/peter_cock/python/heatmap/) slightly modified for rpy2.\n",
      "You can see the whole output from R and you can also interact with R environment through the execution."
     ]
    },
    {
     "cell_type": "code",
     "collapsed": false,
     "input": [
      "import rpy2.robjects as robjects\n",
      "\n",
      "robjects.r('''\n",
      "source(\"http://www.bioconductor.org/biocLite.R\")\n",
      "biocLite(\"ALL\")\n",
      "library(\"ALL\")\n",
      "data(\"ALL\")\n",
      "install.packages(\"gplots\")\n",
      "eset <- ALL[, ALL$mol.biol %in% c(\"BCR/ABL\", \"ALL1/AF4\")]\n",
      "library(\"limma\")\n",
      "f <- factor(as.character(eset$mol.biol))\n",
      "design <- model.matrix(~f)\n",
      "fit <- eBayes(lmFit(eset,design))\n",
      "selected  <- p.adjust(fit$p.value[, 2]) <0.05\n",
      "esetSel <- eset [selected, ]\n",
      "color.map <- function(mol.biol) { if (mol.biol==\"ALL1/AF4\") \"#FF0000\" else \"#0000FF\" }\n",
      "patientcolors <- unlist(lapply(esetSel$mol.bio, color.map))\n",
      "#heatmap(exprs(esetSel), col=topo.colors(100), ColSideColors=patientcolors)\n",
      "library(\"gplots\")\n",
      "heatmap.2(exprs(esetSel), col=redgreen(75), scale=\"row\", ColSideColors=patientcolors,\n",
      "           key=TRUE, symkey=FALSE, density.info=\"none\", trace=\"none\", cexRow=0.5)\n",
      "''')\n"
     ],
     "language": "python",
     "metadata": {},
     "outputs": [
      {
       "output_type": "stream",
       "stream": "stdout",
       "text": [
        "Bioconductor version 2.13 (BiocInstaller 1.12.1), ?biocLite for help\n",
        "A newer version of Bioconductor is available after installing a new version of\n",
        "  R, ?BiocUpgrade for help\n",
        "BioC_mirror: http://bioconductor.org\n"
       ]
      },
      {
       "output_type": "stream",
       "stream": "stdout",
       "text": [
        "Using Bioconductor version 2.13 (BiocInstaller 1.12.1), R version 3.0.2.\n",
        "Installing package(s) 'ALL'\n",
        "trying URL 'http://bioconductor.org/packages/2.13/data/experiment/src/contrib/ALL_1.4.16.tar.gz'\n"
       ]
      },
      {
       "output_type": "stream",
       "stream": "stdout",
       "text": [
        "Content type 'application/x-gzip' length 11402368 bytes (10.9 Mb)\n",
        "opened URL\n",
        "="
       ]
      },
      {
       "output_type": "stream",
       "stream": "stdout",
       "text": [
        "=="
       ]
      },
      {
       "output_type": "stream",
       "stream": "stdout",
       "text": [
        "=="
       ]
      },
      {
       "output_type": "stream",
       "stream": "stdout",
       "text": [
        "=="
       ]
      },
      {
       "output_type": "stream",
       "stream": "stdout",
       "text": [
        "=="
       ]
      },
      {
       "output_type": "stream",
       "stream": "stdout",
       "text": [
        "=="
       ]
      },
      {
       "output_type": "stream",
       "stream": "stdout",
       "text": [
        "=="
       ]
      },
      {
       "output_type": "stream",
       "stream": "stdout",
       "text": [
        "=="
       ]
      },
      {
       "output_type": "stream",
       "stream": "stdout",
       "text": [
        "=="
       ]
      },
      {
       "output_type": "stream",
       "stream": "stdout",
       "text": [
        "=="
       ]
      },
      {
       "output_type": "stream",
       "stream": "stdout",
       "text": [
        "=="
       ]
      },
      {
       "output_type": "stream",
       "stream": "stdout",
       "text": [
        "=="
       ]
      },
      {
       "output_type": "stream",
       "stream": "stdout",
       "text": [
        "=="
       ]
      },
      {
       "output_type": "stream",
       "stream": "stdout",
       "text": [
        "=="
       ]
      },
      {
       "output_type": "stream",
       "stream": "stdout",
       "text": [
        "=="
       ]
      },
      {
       "output_type": "stream",
       "stream": "stdout",
       "text": [
        "=="
       ]
      },
      {
       "output_type": "stream",
       "stream": "stdout",
       "text": [
        "=="
       ]
      },
      {
       "output_type": "stream",
       "stream": "stdout",
       "text": [
        "=="
       ]
      },
      {
       "output_type": "stream",
       "stream": "stdout",
       "text": [
        "=="
       ]
      },
      {
       "output_type": "stream",
       "stream": "stdout",
       "text": [
        "=="
       ]
      },
      {
       "output_type": "stream",
       "stream": "stdout",
       "text": [
        "=="
       ]
      },
      {
       "output_type": "stream",
       "stream": "stdout",
       "text": [
        "=="
       ]
      },
      {
       "output_type": "stream",
       "stream": "stdout",
       "text": [
        "=="
       ]
      },
      {
       "output_type": "stream",
       "stream": "stdout",
       "text": [
        "=="
       ]
      },
      {
       "output_type": "stream",
       "stream": "stdout",
       "text": [
        "=="
       ]
      },
      {
       "output_type": "stream",
       "stream": "stdout",
       "text": [
        "=\n",
        "downloaded 10.9 Mb\n",
        "\n"
       ]
      },
      {
       "output_type": "stream",
       "stream": "stdout",
       "text": [
        "\n",
        "The downloaded source packages are in\n",
        "\t\u2018/tmp/Rtmp0JCABg/downloaded_packages\u2019\n",
        "Loading required package: Biobase\n"
       ]
      },
      {
       "output_type": "stream",
       "stream": "stdout",
       "text": [
        "Loading required package: BiocGenerics\n",
        "Loading required package: parallel\n",
        "\n",
        "Attaching package: \u2018BiocGenerics\u2019\n",
        "\n"
       ]
      },
      {
       "output_type": "stream",
       "stream": "stdout",
       "text": [
        "The following objects are masked from \u2018package:parallel\u2019:\n",
        "\n",
        "    clusterApply, clusterApplyLB, clusterCall, clusterEvalQ,\n",
        "    clusterExport, clusterMap, parApply, parCapply, parLapply,\n",
        "    parLapplyLB, parRapply, parSapply, parSapplyLB\n",
        "\n",
        "The following object is masked from \u2018package:stats\u2019:\n",
        "\n",
        "    xtabs\n",
        "\n",
        "The following objects are masked from \u2018package:base\u2019:\n",
        "\n",
        "    anyDuplicated, append, as.data.frame, as.vector, cbind, colnames,\n",
        "    duplicated, eval, evalq, Filter, Find, get, intersect, is.unsorted,\n",
        "    lapply, Map, mapply, match, mget, order, paste, pmax, pmax.int,\n",
        "    pmin, pmin.int, Position, rank, rbind, Reduce, rep.int, rownames,\n",
        "    sapply, setdiff, sort, table, tapply, union, unique, unlist\n",
        "\n",
        "Welcome to Bioconductor\n",
        "\n",
        "    Vignettes contain introductory material; view with\n",
        "    'browseVignettes()'. To cite Bioconductor, see\n",
        "    'citation(\"Biobase\")', and for packages 'citation(\"pkgname\")'.\n",
        "\n"
       ]
      },
      {
       "output_type": "stream",
       "stream": "stdout",
       "text": [
        "Installing package into \u2018/home/sergiun/R/x86_64-pc-linux-gnu-library/3.0\u2019\n",
        "(as \u2018lib\u2019 is unspecified)\n",
        "--- Please select a CRAN mirror for use in this session ---\n"
       ]
      },
      {
       "output_type": "stream",
       "stream": "stdout",
       "text": [
        "trying URL 'http://ftp.acc.umu.se/mirror/CRAN/src/contrib/gplots_2.16.0.tar.gz'\n",
        "Content type 'application/x-gzip'"
       ]
      },
      {
       "output_type": "stream",
       "stream": "stdout",
       "text": [
        " length 625257 bytes (610 Kb)\n",
        "opened URL\n",
        "================================================"
       ]
      },
      {
       "output_type": "stream",
       "stream": "stdout",
       "text": [
        "=="
       ]
      },
      {
       "output_type": "stream",
       "stream": "stdout",
       "text": [
        "\n",
        "downloaded 610 Kb\n",
        "\n"
       ]
      },
      {
       "output_type": "stream",
       "stream": "stdout",
       "text": [
        "\n",
        "The downloaded source packages are in\n",
        "\t\u2018/tmp/Rtmp0JCABg/downloaded_packages\u2019\n",
        "\n",
        "Attaching package: \u2018limma\u2019\n",
        "\n"
       ]
      },
      {
       "output_type": "stream",
       "stream": "stdout",
       "text": [
        "The following object is masked from \u2018package:BiocGenerics\u2019:\n",
        "\n",
        "    plotMA\n",
        "\n",
        "\n",
        "Attaching package: \u2018gplots\u2019\n",
        "\n"
       ]
      },
      {
       "output_type": "stream",
       "stream": "stdout",
       "text": [
        "The following object is masked from \u2018package:stats\u2019:\n",
        "\n",
        "    lowess\n",
        "\n"
       ]
      },
      {
       "metadata": {},
       "output_type": "pyout",
       "prompt_number": 1,
       "text": [
        "<ListVector - Python:0x7ffd64b1d9e0 / R:0x79e3af8>\n",
        "[IntVe..., IntVe..., Vector, ..., Float..., StrVe..., DataF...]\n",
        "  rowInd: <class 'rpy2.robjects.vectors.IntVector'>\n",
        "  <IntVector - Python:0x7ffd64b23d40 / R:0x7c35a90>\n",
        "[      83,      146,       92, ...,      130,        6,      126]\n",
        "  colInd: <class 'rpy2.robjects.vectors.IntVector'>\n",
        "  <IntVector - Python:0x7ffd64b23d88 / R:0x30e7f90>\n",
        "[      27,        3,       44, ...,        4,        9,        1]\n",
        "  call: <class 'rpy2.robjects.vectors.Vector'>\n",
        "  <Vector - Python:0x7ffd64b23ea8 / R:0x1c2bfb68>\n",
        "[RNULL..., Vector, Vector, ..., RNULL..., Vector, Vector]\n",
        "  ...\n",
        "  rowInd: <class 'rpy2.robjects.vectors.FloatVector'>\n",
        "  <FloatVector - Python:0x7ffd64b2e248 / R:0x1a61c400>\n",
        "[-5.038624, -4.904261, -4.769897, ..., 4.769897, 4.904261, 5.038624]\n",
        "  colInd: <class 'rpy2.robjects.vectors.StrVector'>\n",
        "  <StrVector - Python:0x7ffd64b2e050 / R:0x1c99a5b0>\n",
        "['#FF0..., '#F80..., '#F10..., ..., '#00F..., '#00F..., '#00F...]\n",
        "<ListVector - Python:0x7ffd64b1d9e0 / R:0x79e3af8>\n",
        "[IntVe..., IntVe..., Vector, ..., Float..., StrVe..., DataF...]"
       ]
      }
     ],
     "prompt_number": 1
    },
    {
     "cell_type": "markdown",
     "metadata": {},
     "source": [
      "However in the example above there is no real communication between the two languages. Let us change that with another small example, in which we send a numpy matrix to R. Don't worry at this point about what numpy is, we will learn it in the scientific computing chapter."
     ]
    },
    {
     "cell_type": "code",
     "collapsed": false,
     "input": [
      "import numpy as np\n",
      "from rpy2.robjects import r\n",
      "import rpy2.robjects.numpy2ri\n",
      "rpy2.robjects.numpy2ri.activate()\n",
      "\n",
      "data = np.random.random((10,10))\n",
      "r.heatmap(data)\n"
     ],
     "language": "python",
     "metadata": {},
     "outputs": [
      {
       "metadata": {},
       "output_type": "pyout",
       "prompt_number": 1,
       "text": [
        "<ListVector - Python:0x7fc66545b1b8 / R:0x27c1208>\n",
        "[IntVector, IntVector, RNULLType, RNULLType]\n",
        "  rowInd: <class 'rpy2.robjects.vectors.IntVector'>\n",
        "  <IntVector - Python:0x7fc665462908 / R:0x1f2fe08>\n",
        "[       6,        5,        3, ...,       10,        9,        4]\n",
        "  colInd: <class 'rpy2.robjects.vectors.IntVector'>\n",
        "  <IntVector - Python:0x7fc665462830 / R:0x1cce058>\n",
        "[       4,        2,        8, ...,        1,        9,        7]\n",
        "  Rowv: <type 'rpy2.rinterface.RNULLType'>\n",
        "  rpy2.rinterface.NULL\n",
        "  Colv: <type 'rpy2.rinterface.RNULLType'>\n",
        "  rpy2.rinterface.NULL"
       ]
      }
     ],
     "prompt_number": 1
    },
    {
     "cell_type": "markdown",
     "metadata": {},
     "source": [
      "All is well above, except the display happens in an external R GUI frame. It would be nice to have an inline plot, matplotlib style. Well guess what, you are in luck because IPython is also having native support for R. This is the recommended way in which Python and R can interact in the IPython notebook:"
     ]
    },
    {
     "cell_type": "code",
     "collapsed": false,
     "input": [
      "%load_ext rmagic\n",
      "import numpy as np\n",
      "from rpy2.robjects import r\n",
      "import rpy2.robjects.numpy2ri\n",
      "rpy2.robjects.numpy2ri.activate()\n",
      "\n",
      "data = np.random.random((10,10))\n",
      "\n",
      "%Rpush data\n",
      "%R heatmap(data)"
     ],
     "language": "python",
     "metadata": {},
     "outputs": [
      {
       "output_type": "stream",
       "stream": "stdout",
       "text": [
        "The rmagic extension is already loaded. To reload it, use:\n",
        "  %reload_ext rmagic\n"
       ]
      },
      {
       "metadata": {},
       "output_type": "display_data",
       "png": "[encoded data removed]"
      },
      {
       "metadata": {},
       "output_type": "pyout",
       "prompt_number": 11,
       "text": [
        "array([ <IntVector - Python:0x7fa370caec20 / R:0xe2e41e8>\n",
        "[       3,        8,        5, ...,        6,       10,        2],\n",
        "       <IntVector - Python:0x7fa370caea70 / R:0xe2e4348>\n",
        "[      10,        4,        7, ...,        1,        3,        5],\n",
        "       rpy2.rinterface.NULL, rpy2.rinterface.NULL], dtype=object)"
       ]
      }
     ],
     "prompt_number": 11
    },
    {
     "cell_type": "code",
     "collapsed": false,
     "input": [],
     "language": "python",
     "metadata": {},
     "outputs": []
    }
   ],
   "metadata": {}
  }
 ]
}